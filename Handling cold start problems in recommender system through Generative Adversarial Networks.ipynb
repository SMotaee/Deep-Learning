{
  "nbformat": 4,
  "nbformat_minor": 0,
  "metadata": {
    "colab": {
      "provenance": [],
      "authorship_tag": "ABX9TyM0of1Ki1f74lPDjkfCidMu",
      "include_colab_link": true
    },
    "kernelspec": {
      "name": "python3",
      "display_name": "Python 3"
    },
    "language_info": {
      "name": "python"
    }
  },
  "cells": [
    {
      "cell_type": "markdown",
      "metadata": {
        "id": "view-in-github",
        "colab_type": "text"
      },
      "source": [
        "<a href=\"https://colab.research.google.com/github/SMotaee/Deep-Learning/blob/main/Handling%20cold%20start%20problems%20in%20recommender%20system%20through%20Generative%20Adversarial%20Networks.ipynb\" target=\"_parent\"><img src=\"https://colab.research.google.com/assets/colab-badge.svg\" alt=\"Open In Colab\"/></a>"
      ]
    },
    {
      "cell_type": "code",
      "execution_count": null,
      "metadata": {
        "id": "MUal-8QO2GmV"
      },
      "outputs": [],
      "source": [
        "import numpy as np\n",
        "import pandas as pd\n",
        "from sklearn.model_selection import train_test_split\n",
        "\n",
        "# Load the dataset\n",
        "data = pd.read_csv('ml-100k/u.data', sep='\\t', names=['user_id', 'movie_id', 'rating', 'timestamp'])\n",
        "\n",
        "# Split the dataset into training and testing sets\n",
        "train_data, test_data = train_test_split(data, test_size=0.2, random_state=42)\n",
        "\n",
        "# Create the user-item matrix\n",
        "num_users = data.user_id.nunique()\n",
        "num_movies = data.movie_id.nunique()\n",
        "user_item_matrix = np.zeros((num_users, num_movies))\n",
        "\n",
        "for row in train_data.itertuples():\n",
        "    user_item_matrix[row[1]-1, row[2]-1] = row[3]\n"
      ]
    },
    {
      "cell_type": "code",
      "source": [
        "from tensorflow.keras.layers import Input, Dense, Dropout, LeakyReLU\n",
        "from tensorflow.keras.models import Model\n",
        "from tensorflow.keras.optimizers import Adam\n",
        "\n",
        "# Set the dimension of the generator's input\n",
        "gen_input_dim = 32\n",
        "\n",
        "# Define the generator model\n",
        "gen_input = Input(shape=(gen_input_dim,))\n",
        "x = Dense(64)(gen_input)\n",
        "x = LeakyReLU(alpha=0.2)(x)\n",
        "x = Dense(num_movies)(x)\n",
        "gen_output = LeakyReLU(alpha=0.2)(x)\n",
        "generator = Model(gen_input, gen_output)\n",
        "\n",
        "# Define the discriminator model\n",
        "disc_input = Input(shape=(num_movies,))\n",
        "x = Dense(64)(disc_input)\n",
        "x = LeakyReLU(alpha=0.2)(x)\n",
        "x = Dropout(0.5)(x)\n",
        "disc_output = Dense(1, activation='sigmoid')(x)\n",
        "discriminator = Model(disc_input, disc_output)\n",
        "\n",
        "# Compile the discriminator model\n",
        "discriminator.compile(optimizer=Adam(lr=0.0002, beta_1=0.5), loss='binary_crossentropy')\n",
        "\n",
        "# Define the GAN model\n",
        "gan_input = Input(shape=(gen_input_dim,))\n",
        "gan_output = discriminator(generator(gan_input))\n",
        "gan = Model(gan_input, gan_output)\n",
        "\n",
        "# Compile the GAN model\n",
        "gan.compile(optimizer=Adam(lr=0.0002, beta_1=0.5), loss='binary_crossentropy')\n",
        "\n",
        "# Train the GAN model\n",
        "epochs = 10000\n",
        "batch_size = 32\n",
        "half_batch_size = batch_size // 2\n",
        "\n",
        "for epoch in range(epochs):\n",
        "    # Select a random batch of real user-item ratings\n",
        "    real_indices = np.random.randint(0, num_users, half_batch_size)\n",
        "    real_ratings = user_item_matrix[real_indices]\n",
        "    # Generate a random batch of noise as the generator's input\n",
        "    noise = np.random.normal(0, 1, (half_batch_size, gen_input_dim))\n",
        "    # Generate a batch of synthetic user-item ratings using the generator\n",
        "    fake_ratings = generator.predict(noise)\n",
        "    # Concatenate the real and fake ratings to create a batch of training data for the discriminator\n",
        "    disc_input = np.concatenate([real_ratings, fake_ratings])\n",
        "    # Create the labels for the discriminator\n",
        "    disc_labels = np.concatenate([np.ones\n"
      ],
      "metadata": {
        "id": "APrqvQdc2JAh"
      },
      "execution_count": null,
      "outputs": []
    },
    {
      "cell_type": "code",
      "source": [
        "# Generate a batch of synthetic user-item ratings for the test set using the generator\n",
        "test_noise = np.random.normal(0, 1, (len(test_data), gen_input_dim))\n",
        "synthetic_test_ratings = generator.predict(test_noise)\n",
        "\n",
        "# Compute the mean squared error (MSE) between the synthetic test ratings and the actual test ratings\n",
        "mse = ((synthetic_test_ratings - test_data.rating.values.reshape(-1, 1))**2).mean()\n",
        "\n",
        "print(\"MSE:\", mse)"
      ],
      "metadata": {
        "id": "l7mHBM0j2YjI"
      },
      "execution_count": null,
      "outputs": []
    }
  ]
}