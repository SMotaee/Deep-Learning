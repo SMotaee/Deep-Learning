{
  "nbformat": 4,
  "nbformat_minor": 0,
  "metadata": {
    "colab": {
      "provenance": [],
      "authorship_tag": "ABX9TyNV160TA1iRRspcoqvbbH/i",
      "include_colab_link": true
    },
    "kernelspec": {
      "name": "python3",
      "display_name": "Python 3"
    },
    "language_info": {
      "name": "python"
    }
  },
  "cells": [
    {
      "cell_type": "markdown",
      "metadata": {
        "id": "view-in-github",
        "colab_type": "text"
      },
      "source": [
        "<a href=\"https://colab.research.google.com/github/SMotaee/Deep-Learning/blob/main/Detection%20of%20driver%20tiredness%20by%20counting%20eye%20blinks%20.ipynb\" target=\"_parent\"><img src=\"https://colab.research.google.com/assets/colab-badge.svg\" alt=\"Open In Colab\"/></a>"
      ]
    },
    {
      "cell_type": "code",
      "execution_count": null,
      "metadata": {
        "id": "UEMMJZnix46z"
      },
      "outputs": [],
      "source": [
        "import numpy as np\n",
        "import pandas as pd\n",
        "import tensorflow as tf\n",
        "from tensorflow.keras.layers import Conv2D, MaxPooling2D, Flatten, Dense, Dropout\n",
        "from tensorflow.keras.models import Sequential\n",
        "from sklearn.model_selection import train_test_split\n",
        "\n",
        "# Load the dataset\n",
        "data = pd.read_csv('eye_blink_detection.csv')\n",
        "\n",
        "# Split the dataset into training and testing sets\n",
        "train, test = train_test_split(data, test_size=0.2, random_state=42)\n",
        "\n",
        "# Load the images and labels for the training set\n",
        "train_images = []\n",
        "train_labels = []\n",
        "for index, row in train.iterrows():\n",
        "    image = cv2.imread(row['image_path'])\n",
        "    image = cv2.resize(image, (32, 32))\n",
        "    train_images.append(image)\n",
        "    train_labels.append(row['label'])\n",
        "\n",
        "# Load the images and labels for the testing set\n",
        "test_images = []\n",
        "test_labels = []\n",
        "for index, row in test.iterrows():\n",
        "    image = cv2.imread(row['image_path'])\n",
        "    image = cv2.resize(image, (32, 32))\n",
        "    test_images.append(image)\n",
        "    test_labels.append(row['label'])\n",
        "\n",
        "# Convert the images and labels to numpy arrays\n",
        "train_images = np.array(train_images)\n",
        "train_labels = np.array(train_labels)\n",
        "test_images = np.array(test_images)\n",
        "test_labels = np.array(test_labels)\n",
        "\n",
        "# Normalize the pixel values to be between 0 and 1\n",
        "train_images = train_images / 255.0\n",
        "test_images = test_images / 255.0\n",
        "\n",
        "# Define the neural network model\n",
        "model = Sequential([\n",
        "    Conv2D(32, (3, 3), activation='relu', input_shape=(32, 32, 3)),\n",
        "    MaxPooling2D((2, 2)),\n",
        "    Conv2D(64, (3, 3), activation='relu'),\n",
        "    MaxPooling2D((2, 2)),\n",
        "    Flatten(),\n",
        "    Dense(64, activation='relu'),\n",
        "    Dropout(0.5),\n",
        "    Dense(1, activation='sigmoid')\n",
        "])\n",
        "\n",
        "model.compile(optimizer='adam', loss='binary_crossentropy', metrics=['accuracy'])\n",
        "model.fit(train_images, train_labels, epochs=10, validation_data=(test_images, test_labels))\n",
        "model.save('blink_detection_model.h5')\n"
      ]
    },
    {
      "cell_type": "code",
      "source": [
        "import cv2\n",
        "import dlib\n",
        "import numpy as np\n",
        "from tensorflow.keras.models import load_model\n",
        "\n",
        "# Load the eye blink detection model\n",
        "model = load_model('blink_detection_model.h5')\n",
        "\n",
        "# Initialize the dlib face detector and the facial landmark predictor\n",
        "detector = dlib.get_frontal_face_detector()\n",
        "predictor = dlib.shape_predictor(\"shape_predictor_68_face_landmarks.dat\")\n",
        "\n",
        "# Define a function to calculate the eye aspect ratio (EAR)\n",
        "def eye_aspect_ratio(eye):\n",
        "    # Calculate the euclidean distances between the two sets of vertical eye landmarks\n",
        "    A = distance.euclidean(eye[1], eye[5])\n",
        "    B = distance.euclidean(eye[2], eye[4])\n",
        "\n",
        "    # Calculate the euclidean distance between the horizontal eye landmarks\n",
        "    C = distance.euclidean(eye[0], eye[3])\n",
        "\n",
        "    # Calculate the EAR\n",
        "    ear = (A + B) / (2.0 * C)"
      ],
      "metadata": {
        "id": "Wpz3TiouyC-J"
      },
      "execution_count": null,
      "outputs": []
    },
    {
      "cell_type": "code",
      "source": [
        "import numpy as np\n",
        "import pandas as pd\n",
        "import tensorflow as tf\n",
        "from tensorflow.keras.models import load_model\n",
        "from sklearn.metrics import accuracy_score\n",
        "\n",
        "# Load the trained model\n",
        "model = load_model('blink_detection_model.h5')\n",
        "\n",
        "# Load the dataset\n",
        "data = pd.read_csv('eye_blink_detection.csv')\n",
        "\n",
        "# Load the images and labels\n",
        "images = []\n",
        "labels = []\n",
        "for index, row in data.iterrows():\n",
        "    image = cv2.imread(row['image_path'])\n",
        "    image = cv2.resize(image, (32, 32))\n",
        "    images.append(image)\n",
        "    labels.append(row['label'])\n",
        "\n",
        "# Convert the images and labels to numpy arrays\n",
        "images = np.array(images)\n",
        "labels = np.array(labels)\n",
        "\n",
        "# Normalize the pixel values to be between 0 and 1\n",
        "images = images / 255.0\n",
        "\n",
        "# Evaluate the model on the dataset\n",
        "predictions = model.predict(images)\n",
        "predictions = np.round(predictions).flatten()\n",
        "accuracy = accuracy_score(labels, predictions)\n",
        "\n",
        "print(\"Accuracy: {:.2f}%\".format(accuracy * 100))"
      ],
      "metadata": {
        "id": "QaSjsprsyDyf"
      },
      "execution_count": null,
      "outputs": []
    }
  ]
}