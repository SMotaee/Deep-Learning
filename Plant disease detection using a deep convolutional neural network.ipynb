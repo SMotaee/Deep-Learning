{
  "nbformat": 4,
  "nbformat_minor": 0,
  "metadata": {
    "colab": {
      "provenance": [],
      "gpuType": "T4",
      "toc_visible": true,
      "authorship_tag": "ABX9TyPPADaZn3VhvxUxgjT28n6U",
      "include_colab_link": true
    },
    "kernelspec": {
      "name": "python3",
      "display_name": "Python 3"
    },
    "language_info": {
      "name": "python"
    },
    "accelerator": "GPU",
    "gpuClass": "standard"
  },
  "cells": [
    {
      "cell_type": "markdown",
      "metadata": {
        "id": "view-in-github",
        "colab_type": "text"
      },
      "source": [
        "<a href=\"https://colab.research.google.com/github/SMotaee/Deep-Learning/blob/main/Plant%20disease%20detection%20using%20a%20deep%20convolutional%20neural%20network.ipynb\" target=\"_parent\"><img src=\"https://colab.research.google.com/assets/colab-badge.svg\" alt=\"Open In Colab\"/></a>"
      ]
    },
    {
      "cell_type": "code",
      "execution_count": null,
      "metadata": {
        "id": "HlpM8H0i8CST"
      },
      "outputs": [],
      "source": [
        "import tensorflow as tf\n",
        "from tensorflow import keras\n",
        "from tensorflow.keras import layers\n",
        "import urllib.request\n",
        "import os\n",
        "import zipfile\n",
        "\n",
        "# Download the dataset\n",
        "url = 'https://storage.googleapis.com/plantdata/PlantVillage.zip'\n",
        "filename = 'PlantVillage.zip'\n",
        "if not os.path.isfile(filename):\n",
        "    urllib.request.urlretrieve(url, filename)\n",
        "    with zipfile.ZipFile(filename, 'r') as zip_ref:\n",
        "        zip_ref.extractall('PlantVillage')\n",
        "\n",
        "# Load the dataset\n",
        "train_dataset = keras.preprocessing.image_dataset_from_directory('/content/PlantVillage/PlantVillage/train',\n",
        "    batch_size=32,\n",
        "    image_size=(224, 224)\n",
        ")\n",
        "train_dataset = keras.preprocessing.image_dataset_from_directory(\n",
        "    '/content/PlantVillage/PlantVillage/train',\n",
        "    batch_size=32,\n",
        "    image_size=(224, 224),\n",
        "    label_mode='categorical'\n",
        ")\n",
        "test_dataset = keras.preprocessing.image_dataset_from_directory('/content/PlantVillage/PlantVillage/validation',\n",
        "    batch_size=32,\n",
        "    image_size=(224, 224)\n",
        ")\n",
        "\n",
        "# model \n",
        "model = keras.Sequential([\n",
        "    layers.Conv2D(32, (3, 3), activation='relu', input_shape=(224, 224, 3)),\n",
        "    layers.MaxPooling2D((2, 2)),\n",
        "    layers.Conv2D(64, (3, 3), activation='relu'),\n",
        "    layers.MaxPooling2D((2, 2)),\n",
        "    layers.Conv2D(128, (3, 3), activation='relu'),\n",
        "    layers.MaxPooling2D((2, 2)),\n",
        "    layers.Flatten(),\n",
        "    layers.Dense(128, activation='relu'),\n",
        "    layers.Dense(len(train_dataset.class_names), activation='softmax')\n",
        "])\n",
        "\n",
        "model.compile(optimizer='adam', loss='categorical_crossentropy', metrics=['accuracy'])\n",
        "\n",
        "# Train the model\n",
        "model.fit(train_dataset, epochs=10)\n",
        "\n",
        "loss, accuracy = model.evaluate(test_dataset)\n",
        "print(f'Test accuracy: {accuracy}')"
      ]
    }
  ]
}