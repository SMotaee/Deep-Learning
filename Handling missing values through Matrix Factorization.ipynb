{
  "nbformat": 4,
  "nbformat_minor": 0,
  "metadata": {
    "colab": {
      "provenance": [],
      "authorship_tag": "ABX9TyPVGI6b2VU+GcTzvJJ9eCj7",
      "include_colab_link": true
    },
    "kernelspec": {
      "name": "python3",
      "display_name": "Python 3"
    },
    "language_info": {
      "name": "python"
    }
  },
  "cells": [
    {
      "cell_type": "markdown",
      "metadata": {
        "id": "view-in-github",
        "colab_type": "text"
      },
      "source": [
        "<a href=\"https://colab.research.google.com/github/SMotaee/Deep-Learning/blob/main/Handling%20missing%20values%20through%20Matrix%20Factorization.ipynb\" target=\"_parent\"><img src=\"https://colab.research.google.com/assets/colab-badge.svg\" alt=\"Open In Colab\"/></a>"
      ]
    },
    {
      "cell_type": "code",
      "execution_count": null,
      "metadata": {
        "id": "fuK02d-o1MTX"
      },
      "outputs": [],
      "source": [
        "import numpy as np\n",
        "import pandas as pd\n",
        "from sklearn.model_selection import train_test_split\n",
        "\n",
        "# Load the dataset\n",
        "data = pd.read_csv('ml-100k/u.data', sep='\\t', names=['user_id', 'movie_id', 'rating', 'timestamp'])\n",
        "\n",
        "# Split the dataset into training and testing sets\n",
        "train_data, test_data = train_test_split(data, test_size=0.2, random_state=42)\n",
        "\n",
        "# Create the user-item matrix\n",
        "num_users = data.user_id.nunique()\n",
        "num_movies = data.movie_id.nunique()\n",
        "user_item_matrix = np.zeros((num_users, num_movies))\n",
        "\n",
        "for row in train_data.itertuples():\n",
        "    user_item_matrix[row[1]-1, row[2]-1] = row[3]\n"
      ]
    },
    {
      "cell_type": "code",
      "source": [
        "import tensorflow as tf\n",
        "from tensorflow.keras.layers import Input, Embedding, Flatten, Dot, Add\n",
        "from tensorflow.keras.models import Model\n",
        "\n",
        "# Set the embedding dimension\n",
        "embedding_dim = 10\n",
        "\n",
        "# Create the user embedding layer\n",
        "user_input = Input(shape=[1])\n",
        "user_embedding = Embedding(num_users, embedding_dim)(user_input)\n",
        "user_bias = Embedding(num_users, 1)(user_input)\n",
        "\n",
        "# Create the item embedding layer\n",
        "item_input = Input(shape=[1])\n",
        "item_embedding = Embedding(num_movies, embedding_dim)(item_input)\n",
        "item_bias = Embedding(num_movies, 1)(item_input)\n",
        "\n",
        "# Calculate the dot product of the user and item embeddings\n",
        "dot_product = Dot(axes=2)([user_embedding, item_embedding])\n",
        "\n",
        "# Add the user and item biases to the dot product\n",
        "output = Add()([dot_product, user_bias, item_bias])\n",
        "output = Flatten()(output)\n",
        "\n",
        "# Create the matrix factorization model\n",
        "model = Model(inputs=[user_input, item_input], outputs=output)\n",
        "\n",
        "# Compile the model\n",
        "model.compile(optimizer='adam', loss='mean_squared_error')\n",
        "\n",
        "# Train the model\n",
        "history = model.fit(x=[train_data.user_id.values, train_data.movie_id.values],\n",
        "                    y=train_data.rating.values,\n",
        "                    batch_size=64,\n",
        "                    epochs=10,\n",
        "                    validation_data=([test_data.user_id.values, test_data.movie_id.values], test_data.rating.values))\n"
      ],
      "metadata": {
        "id": "XBXXoS6X1O40"
      },
      "execution_count": null,
      "outputs": []
    },
    {
      "cell_type": "code",
      "source": [
        "# Calculate the root mean squared error (RMSE)\n",
        "from sklearn.metrics import mean_squared_error\n",
        "\n",
        "train_predictions = model.predict([train_data.user_id.values, train_data.movie_id.values])\n",
        "test_predictions = model.predict([test_data.user_id.values, test_data.movie_id.values])\n",
        "\n",
        "train_rmse = np.sqrt(mean_squared_error(train_data.rating.values, train_predictions))\n",
        "test_rmse = np.sqrt(mean_squared_error(test_data.rating.values, test_predictions))\n",
        "\n",
        "print(\"Train RMSE: {:.2f}\".format(train_rmse))\n",
        "print(\"Test RMSE: {:.2f}\".format(test_rmse))\n"
      ],
      "metadata": {
        "id": "SxX2PJXC1SyP"
      },
      "execution_count": null,
      "outputs": []
    }
  ]
}