{
  "nbformat": 4,
  "nbformat_minor": 0,
  "metadata": {
    "colab": {
      "provenance": [],
      "authorship_tag": "ABX9TyOs/UHvRCrmo4NjnfBN113Q",
      "include_colab_link": true
    },
    "kernelspec": {
      "name": "python3",
      "display_name": "Python 3"
    },
    "language_info": {
      "name": "python"
    }
  },
  "cells": [
    {
      "cell_type": "markdown",
      "metadata": {
        "id": "view-in-github",
        "colab_type": "text"
      },
      "source": [
        "<a href=\"https://colab.research.google.com/github/SMotaee/Deep-Learning/blob/main/Diabetes%20disease%20detection%20using%20transfer%20learning%20method.ipynb\" target=\"_parent\"><img src=\"https://colab.research.google.com/assets/colab-badge.svg\" alt=\"Open In Colab\"/></a>"
      ]
    },
    {
      "cell_type": "code",
      "execution_count": null,
      "metadata": {
        "id": "deFDGEpdz3TN"
      },
      "outputs": [],
      "source": [
        "import numpy as np\n",
        "import pandas as pd\n",
        "import tensorflow as tf\n",
        "from tensorflow.keras.applications.inception_v3 import preprocess_input\n",
        "from sklearn.model_selection import train_test_split\n",
        "\n",
        "# Load the dataset\n",
        "data = pd.read_csv('diabetes.csv')\n",
        "\n",
        "# Split the dataset into training and testing sets\n",
        "train, test = train_test_split(data, test_size=0.2, random_state=42)\n",
        "\n",
        "# Extract the features and labels for the training set\n",
        "train_features = train.drop(['Outcome'], axis=1).values\n",
        "train_labels = train['Outcome'].values\n",
        "\n",
        "# Extract the features and labels for the testing set\n",
        "test_features = test.drop(['Outcome'], axis=1).values\n",
        "test_labels = test['Outcome'].values\n",
        "\n",
        "# Preprocess the input features\n",
        "train_features = preprocess_input(train_features)\n",
        "test_features = preprocess_input(test_features)\n"
      ]
    },
    {
      "cell_type": "code",
      "source": [
        "from tensorflow.keras.layers import Dense, Dropout\n",
        "from tensorflow.keras.models import Model\n",
        "from tensorflow.keras.optimizers import RMSprop\n",
        "from tensorflow.keras.applications.inception_v3 import InceptionV3\n",
        "\n",
        "# Load the Inception V3 model\n",
        "base_model = InceptionV3(weights='imagenet', include_top=False, input_shape=(224, 224, 3))\n",
        "\n",
        "# Freeze the base model layers\n",
        "for layer in base_model.layers:\n",
        "    layer.trainable = False\n",
        "\n",
        "# Add new layers for classification\n",
        "x = base_model.output\n",
        "x = tf.keras.layers.GlobalAveragePooling2D()(x)\n",
        "x = Dense(1024, activation='relu')(x)\n",
        "x = Dropout(0.5)(x)\n",
        "x = Dense(512, activation='relu')(x)\n",
        "x = Dropout(0.5)(x)\n",
        "predictions = Dense(1, activation='sigmoid')(x)\n",
        "\n",
        "# Create the transfer learning model\n",
        "model = Model(inputs=base_model.input, outputs=predictions)\n",
        "\n",
        "# Compile the model\n",
        "model.compile(optimizer=RMSprop(lr=0.0001), loss='binary_crossentropy', metrics=['accuracy'])\n",
        "\n",
        "# Train the model\n",
        "model.fit(train_images, train_labels, epochs=10, validation_data=(test_images, test_labels))\n",
        "\n",
        "# Save the model\n",
        "model.save('diabetes_detection_model.h5')\n"
      ],
      "metadata": {
        "id": "GzwfJPy9z41L"
      },
      "execution_count": null,
      "outputs": []
    },
    {
      "cell_type": "code",
      "source": [
        "import numpy as np\n",
        "import pandas as pd\n",
        "import tensorflow as tf\n",
        "from tensorflow.keras.models import load_model\n",
        "from sklearn.metrics import accuracy_score\n",
        "\n",
        "# Load the trained model\n",
        "model = load_model('diabetes_detection_model.h5')\n",
        "\n",
        "# Load the dataset\n",
        "data = pd.read_csv('diabetes.csv')\n",
        "\n",
        "# Extract the features and labels\n",
        "features = data.drop(['Outcome'], axis=1).values\n",
        "labels = data['Outcome'].values\n",
        "\n",
        "# Preprocess the input features\n",
        "features = preprocess_input(features)\n",
        "\n",
        "# Evaluate the model on the dataset\n",
        "predictions = model.predict(features)\n",
        "predictions = np.round(predictions).flatten()\n",
        "accuracy = accuracy_score(labels, predictions)\n",
        "\n",
        "print(\"Accuracy: {:.2f}%\".format(accuracy * 100))"
      ],
      "metadata": {
        "id": "ogw94Wgtz6_C"
      },
      "execution_count": null,
      "outputs": []
    }
  ]
}